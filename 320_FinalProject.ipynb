{
  "nbformat": 4,
  "nbformat_minor": 0,
  "metadata": {
    "colab": {
      "provenance": []
    },
    "kernelspec": {
      "name": "python3",
      "display_name": "Python 3"
    },
    "language_info": {
      "name": "python"
    }
  },
  "cells": [
    {
      "cell_type": "markdown",
      "source": [
        "# CMSC320 Fall 2024 Final Project\n",
        "## By Arina Petrova, Timothy Kramer"
      ],
      "metadata": {
        "id": "NzBkKpci7b17"
      }
    },
    {
      "cell_type": "code",
      "execution_count": null,
      "metadata": {
        "id": "clEACEEX7I_Z"
      },
      "outputs": [],
      "source": []
    }
  ]
}